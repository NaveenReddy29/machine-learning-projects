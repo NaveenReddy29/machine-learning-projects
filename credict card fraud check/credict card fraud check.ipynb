{
 "cells": [
  {
   "cell_type": "code",
   "execution_count": 1,
   "metadata": {},
   "outputs": [],
   "source": [
    "import pandas as pd\n",
    "import numpy as np"
   ]
  },
  {
   "cell_type": "code",
   "execution_count": 3,
   "metadata": {},
   "outputs": [],
   "source": [
    "dataset=pd.read_csv(\"D:\\DATA SCIENCE\\my projects\\credict card fraud check\\creditcard.csv\")"
   ]
  },
  {
   "cell_type": "markdown",
   "metadata": {},
   "source": [
    "# Data pre processing"
   ]
  },
  {
   "cell_type": "code",
   "execution_count": 4,
   "metadata": {},
   "outputs": [
    {
     "data": {
      "text/html": [
       "<div>\n",
       "<style scoped>\n",
       "    .dataframe tbody tr th:only-of-type {\n",
       "        vertical-align: middle;\n",
       "    }\n",
       "\n",
       "    .dataframe tbody tr th {\n",
       "        vertical-align: top;\n",
       "    }\n",
       "\n",
       "    .dataframe thead th {\n",
       "        text-align: right;\n",
       "    }\n",
       "</style>\n",
       "<table border=\"1\" class=\"dataframe\">\n",
       "  <thead>\n",
       "    <tr style=\"text-align: right;\">\n",
       "      <th></th>\n",
       "      <th>Time</th>\n",
       "      <th>V1</th>\n",
       "      <th>V2</th>\n",
       "      <th>V3</th>\n",
       "      <th>V4</th>\n",
       "      <th>V5</th>\n",
       "      <th>V6</th>\n",
       "      <th>V7</th>\n",
       "      <th>V8</th>\n",
       "      <th>V9</th>\n",
       "      <th>...</th>\n",
       "      <th>V21</th>\n",
       "      <th>V22</th>\n",
       "      <th>V23</th>\n",
       "      <th>V24</th>\n",
       "      <th>V25</th>\n",
       "      <th>V26</th>\n",
       "      <th>V27</th>\n",
       "      <th>V28</th>\n",
       "      <th>Amount</th>\n",
       "      <th>Class</th>\n",
       "    </tr>\n",
       "  </thead>\n",
       "  <tbody>\n",
       "    <tr>\n",
       "      <th>0</th>\n",
       "      <td>0.0</td>\n",
       "      <td>-1.359807</td>\n",
       "      <td>-0.072781</td>\n",
       "      <td>2.536347</td>\n",
       "      <td>1.378155</td>\n",
       "      <td>-0.338321</td>\n",
       "      <td>0.462388</td>\n",
       "      <td>0.239599</td>\n",
       "      <td>0.098698</td>\n",
       "      <td>0.363787</td>\n",
       "      <td>...</td>\n",
       "      <td>-0.018307</td>\n",
       "      <td>0.277838</td>\n",
       "      <td>-0.110474</td>\n",
       "      <td>0.066928</td>\n",
       "      <td>0.128539</td>\n",
       "      <td>-0.189115</td>\n",
       "      <td>0.133558</td>\n",
       "      <td>-0.021053</td>\n",
       "      <td>149.62</td>\n",
       "      <td>0</td>\n",
       "    </tr>\n",
       "    <tr>\n",
       "      <th>1</th>\n",
       "      <td>0.0</td>\n",
       "      <td>1.191857</td>\n",
       "      <td>0.266151</td>\n",
       "      <td>0.166480</td>\n",
       "      <td>0.448154</td>\n",
       "      <td>0.060018</td>\n",
       "      <td>-0.082361</td>\n",
       "      <td>-0.078803</td>\n",
       "      <td>0.085102</td>\n",
       "      <td>-0.255425</td>\n",
       "      <td>...</td>\n",
       "      <td>-0.225775</td>\n",
       "      <td>-0.638672</td>\n",
       "      <td>0.101288</td>\n",
       "      <td>-0.339846</td>\n",
       "      <td>0.167170</td>\n",
       "      <td>0.125895</td>\n",
       "      <td>-0.008983</td>\n",
       "      <td>0.014724</td>\n",
       "      <td>2.69</td>\n",
       "      <td>0</td>\n",
       "    </tr>\n",
       "    <tr>\n",
       "      <th>2</th>\n",
       "      <td>1.0</td>\n",
       "      <td>-1.358354</td>\n",
       "      <td>-1.340163</td>\n",
       "      <td>1.773209</td>\n",
       "      <td>0.379780</td>\n",
       "      <td>-0.503198</td>\n",
       "      <td>1.800499</td>\n",
       "      <td>0.791461</td>\n",
       "      <td>0.247676</td>\n",
       "      <td>-1.514654</td>\n",
       "      <td>...</td>\n",
       "      <td>0.247998</td>\n",
       "      <td>0.771679</td>\n",
       "      <td>0.909412</td>\n",
       "      <td>-0.689281</td>\n",
       "      <td>-0.327642</td>\n",
       "      <td>-0.139097</td>\n",
       "      <td>-0.055353</td>\n",
       "      <td>-0.059752</td>\n",
       "      <td>378.66</td>\n",
       "      <td>0</td>\n",
       "    </tr>\n",
       "    <tr>\n",
       "      <th>3</th>\n",
       "      <td>1.0</td>\n",
       "      <td>-0.966272</td>\n",
       "      <td>-0.185226</td>\n",
       "      <td>1.792993</td>\n",
       "      <td>-0.863291</td>\n",
       "      <td>-0.010309</td>\n",
       "      <td>1.247203</td>\n",
       "      <td>0.237609</td>\n",
       "      <td>0.377436</td>\n",
       "      <td>-1.387024</td>\n",
       "      <td>...</td>\n",
       "      <td>-0.108300</td>\n",
       "      <td>0.005274</td>\n",
       "      <td>-0.190321</td>\n",
       "      <td>-1.175575</td>\n",
       "      <td>0.647376</td>\n",
       "      <td>-0.221929</td>\n",
       "      <td>0.062723</td>\n",
       "      <td>0.061458</td>\n",
       "      <td>123.50</td>\n",
       "      <td>0</td>\n",
       "    </tr>\n",
       "    <tr>\n",
       "      <th>4</th>\n",
       "      <td>2.0</td>\n",
       "      <td>-1.158233</td>\n",
       "      <td>0.877737</td>\n",
       "      <td>1.548718</td>\n",
       "      <td>0.403034</td>\n",
       "      <td>-0.407193</td>\n",
       "      <td>0.095921</td>\n",
       "      <td>0.592941</td>\n",
       "      <td>-0.270533</td>\n",
       "      <td>0.817739</td>\n",
       "      <td>...</td>\n",
       "      <td>-0.009431</td>\n",
       "      <td>0.798278</td>\n",
       "      <td>-0.137458</td>\n",
       "      <td>0.141267</td>\n",
       "      <td>-0.206010</td>\n",
       "      <td>0.502292</td>\n",
       "      <td>0.219422</td>\n",
       "      <td>0.215153</td>\n",
       "      <td>69.99</td>\n",
       "      <td>0</td>\n",
       "    </tr>\n",
       "  </tbody>\n",
       "</table>\n",
       "<p>5 rows × 31 columns</p>\n",
       "</div>"
      ],
      "text/plain": [
       "   Time        V1        V2        V3        V4        V5        V6        V7  \\\n",
       "0   0.0 -1.359807 -0.072781  2.536347  1.378155 -0.338321  0.462388  0.239599   \n",
       "1   0.0  1.191857  0.266151  0.166480  0.448154  0.060018 -0.082361 -0.078803   \n",
       "2   1.0 -1.358354 -1.340163  1.773209  0.379780 -0.503198  1.800499  0.791461   \n",
       "3   1.0 -0.966272 -0.185226  1.792993 -0.863291 -0.010309  1.247203  0.237609   \n",
       "4   2.0 -1.158233  0.877737  1.548718  0.403034 -0.407193  0.095921  0.592941   \n",
       "\n",
       "         V8        V9  ...       V21       V22       V23       V24       V25  \\\n",
       "0  0.098698  0.363787  ... -0.018307  0.277838 -0.110474  0.066928  0.128539   \n",
       "1  0.085102 -0.255425  ... -0.225775 -0.638672  0.101288 -0.339846  0.167170   \n",
       "2  0.247676 -1.514654  ...  0.247998  0.771679  0.909412 -0.689281 -0.327642   \n",
       "3  0.377436 -1.387024  ... -0.108300  0.005274 -0.190321 -1.175575  0.647376   \n",
       "4 -0.270533  0.817739  ... -0.009431  0.798278 -0.137458  0.141267 -0.206010   \n",
       "\n",
       "        V26       V27       V28  Amount  Class  \n",
       "0 -0.189115  0.133558 -0.021053  149.62      0  \n",
       "1  0.125895 -0.008983  0.014724    2.69      0  \n",
       "2 -0.139097 -0.055353 -0.059752  378.66      0  \n",
       "3 -0.221929  0.062723  0.061458  123.50      0  \n",
       "4  0.502292  0.219422  0.215153   69.99      0  \n",
       "\n",
       "[5 rows x 31 columns]"
      ]
     },
     "execution_count": 4,
     "metadata": {},
     "output_type": "execute_result"
    }
   ],
   "source": [
    "dataset.head()"
   ]
  },
  {
   "cell_type": "code",
   "execution_count": 10,
   "metadata": {},
   "outputs": [],
   "source": [
    "#assining the input and output variables\n",
    "x=dataset.iloc[:,0:30].values\n",
    "y=dataset.iloc[:,30:31].values\n"
   ]
  },
  {
   "cell_type": "code",
   "execution_count": 12,
   "metadata": {},
   "outputs": [],
   "source": [
    "#splitting the data to test and train\n",
    "from sklearn.model_selection import train_test_split\n",
    "x_train,x_test,y_train,y_test=train_test_split(x,y,test_size=0.2)"
   ]
  },
  {
   "cell_type": "code",
   "execution_count": 14,
   "metadata": {},
   "outputs": [],
   "source": [
    "#scaling the data\n",
    "from sklearn.preprocessing import MinMaxScaler\n",
    "sc=MinMaxScaler()\n",
    "x_train=sc.fit_transform(x_train)"
   ]
  },
  {
   "cell_type": "code",
   "execution_count": 16,
   "metadata": {},
   "outputs": [],
   "source": [
    "x_test=sc.transform(x_test)"
   ]
  },
  {
   "cell_type": "markdown",
   "metadata": {},
   "source": [
    "# Building NN model"
   ]
  },
  {
   "cell_type": "code",
   "execution_count": 17,
   "metadata": {},
   "outputs": [
    {
     "name": "stderr",
     "output_type": "stream",
     "text": [
      "Using TensorFlow backend.\n"
     ]
    }
   ],
   "source": [
    "import keras\n"
   ]
  },
  {
   "cell_type": "code",
   "execution_count": 19,
   "metadata": {},
   "outputs": [],
   "source": [
    "from keras.models import Sequential\n",
    "from keras.layers import Dense"
   ]
  },
  {
   "cell_type": "markdown",
   "metadata": {},
   "source": [
    "# Initializing the NN model"
   ]
  },
  {
   "cell_type": "code",
   "execution_count": 20,
   "metadata": {},
   "outputs": [],
   "source": [
    "model=Sequential()"
   ]
  },
  {
   "cell_type": "markdown",
   "metadata": {},
   "source": [
    "# Adding input Layer"
   ]
  },
  {
   "cell_type": "code",
   "execution_count": 21,
   "metadata": {},
   "outputs": [],
   "source": [
    "model.add(Dense(input_dim=x_train.shape[1],kernel_initializer=\"random_uniform\",units=10))"
   ]
  },
  {
   "cell_type": "markdown",
   "metadata": {},
   "source": [
    "# Adding hidden layer"
   ]
  },
  {
   "cell_type": "code",
   "execution_count": 22,
   "metadata": {},
   "outputs": [],
   "source": [
    "model.add(Dense(kernel_initializer=\"random_uniform\",units=10))"
   ]
  },
  {
   "cell_type": "markdown",
   "metadata": {},
   "source": [
    "# Adding output layer"
   ]
  },
  {
   "cell_type": "code",
   "execution_count": 23,
   "metadata": {},
   "outputs": [],
   "source": [
    "model.add(Dense(kernel_initializer=\"random_uniform\",activation=\"sigmoid\",units=1))"
   ]
  },
  {
   "cell_type": "markdown",
   "metadata": {},
   "source": [
    "# Compiling the model"
   ]
  },
  {
   "cell_type": "code",
   "execution_count": 24,
   "metadata": {},
   "outputs": [],
   "source": [
    "model.compile(loss=\"binary_crossentropy\",optimizer=\"adam\",metrics=[\"accuracy\"])"
   ]
  },
  {
   "cell_type": "code",
   "execution_count": 25,
   "metadata": {},
   "outputs": [
    {
     "name": "stdout",
     "output_type": "stream",
     "text": [
      "Model: \"sequential_1\"\n",
      "_________________________________________________________________\n",
      "Layer (type)                 Output Shape              Param #   \n",
      "=================================================================\n",
      "dense_1 (Dense)              (None, 10)                310       \n",
      "_________________________________________________________________\n",
      "dense_2 (Dense)              (None, 10)                110       \n",
      "_________________________________________________________________\n",
      "dense_3 (Dense)              (None, 1)                 11        \n",
      "=================================================================\n",
      "Total params: 431\n",
      "Trainable params: 431\n",
      "Non-trainable params: 0\n",
      "_________________________________________________________________\n"
     ]
    }
   ],
   "source": [
    "model.summary()"
   ]
  },
  {
   "cell_type": "markdown",
   "metadata": {},
   "source": [
    "# Training the model"
   ]
  },
  {
   "cell_type": "code",
   "execution_count": 26,
   "metadata": {},
   "outputs": [
    {
     "name": "stdout",
     "output_type": "stream",
     "text": [
      "Epoch 1/50\n",
      "227845/227845 [==============================] - 2s 8us/step - loss: 0.0287 - accuracy: 0.9983\n",
      "Epoch 2/50\n",
      "227845/227845 [==============================] - 2s 7us/step - loss: 0.0091 - accuracy: 0.9984\n",
      "Epoch 3/50\n",
      "227845/227845 [==============================] - 2s 7us/step - loss: 0.0049 - accuracy: 0.9990\n",
      "Epoch 4/50\n",
      "227845/227845 [==============================] - 2s 7us/step - loss: 0.0044 - accuracy: 0.9992\n",
      "Epoch 5/50\n",
      "227845/227845 [==============================] - 2s 7us/step - loss: 0.0043 - accuracy: 0.9992\n",
      "Epoch 6/50\n",
      "227845/227845 [==============================] - 2s 7us/step - loss: 0.0042 - accuracy: 0.9992\n",
      "Epoch 7/50\n",
      "227845/227845 [==============================] - 2s 7us/step - loss: 0.0042 - accuracy: 0.9992\n",
      "Epoch 8/50\n",
      "227845/227845 [==============================] - 2s 7us/step - loss: 0.0042 - accuracy: 0.9992\n",
      "Epoch 9/50\n",
      "227845/227845 [==============================] - 2s 7us/step - loss: 0.0042 - accuracy: 0.9992\n",
      "Epoch 10/50\n",
      "227845/227845 [==============================] - 2s 7us/step - loss: 0.0042 - accuracy: 0.9992\n",
      "Epoch 11/50\n",
      "227845/227845 [==============================] - 2s 7us/step - loss: 0.0042 - accuracy: 0.9992\n",
      "Epoch 12/50\n",
      "227845/227845 [==============================] - 2s 8us/step - loss: 0.0041 - accuracy: 0.9992\n",
      "Epoch 13/50\n",
      "227845/227845 [==============================] - 2s 7us/step - loss: 0.0041 - accuracy: 0.9992\n",
      "Epoch 14/50\n",
      "227845/227845 [==============================] - 2s 7us/step - loss: 0.0041 - accuracy: 0.9992\n",
      "Epoch 15/50\n",
      "227845/227845 [==============================] - 2s 7us/step - loss: 0.0041 - accuracy: 0.9992\n",
      "Epoch 16/50\n",
      "227845/227845 [==============================] - 2s 7us/step - loss: 0.0041 - accuracy: 0.9992\n",
      "Epoch 17/50\n",
      "227845/227845 [==============================] - 2s 7us/step - loss: 0.0041 - accuracy: 0.9992\n",
      "Epoch 18/50\n",
      "227845/227845 [==============================] - 2s 7us/step - loss: 0.0041 - accuracy: 0.9992\n",
      "Epoch 19/50\n",
      "227845/227845 [==============================] - 2s 7us/step - loss: 0.0041 - accuracy: 0.9992\n",
      "Epoch 20/50\n",
      "227845/227845 [==============================] - 2s 7us/step - loss: 0.0041 - accuracy: 0.9992\n",
      "Epoch 21/50\n",
      "227845/227845 [==============================] - 2s 8us/step - loss: 0.0040 - accuracy: 0.9992\n",
      "Epoch 22/50\n",
      "227845/227845 [==============================] - 2s 7us/step - loss: 0.0040 - accuracy: 0.9992\n",
      "Epoch 23/50\n",
      "227845/227845 [==============================] - 2s 7us/step - loss: 0.0040 - accuracy: 0.9992\n",
      "Epoch 24/50\n",
      "227845/227845 [==============================] - 2s 7us/step - loss: 0.0040 - accuracy: 0.9992\n",
      "Epoch 25/50\n",
      "227845/227845 [==============================] - 2s 7us/step - loss: 0.0040 - accuracy: 0.9992\n",
      "Epoch 26/50\n",
      "227845/227845 [==============================] - 2s 7us/step - loss: 0.0040 - accuracy: 0.9992\n",
      "Epoch 27/50\n",
      "227845/227845 [==============================] - 2s 7us/step - loss: 0.0040 - accuracy: 0.9992\n",
      "Epoch 28/50\n",
      "227845/227845 [==============================] - 2s 7us/step - loss: 0.0040 - accuracy: 0.9992\n",
      "Epoch 29/50\n",
      "227845/227845 [==============================] - 2s 7us/step - loss: 0.0040 - accuracy: 0.9992\n",
      "Epoch 30/50\n",
      "227845/227845 [==============================] - 2s 7us/step - loss: 0.0040 - accuracy: 0.9992\n",
      "Epoch 31/50\n",
      "227845/227845 [==============================] - 2s 8us/step - loss: 0.0040 - accuracy: 0.9992\n",
      "Epoch 32/50\n",
      "227845/227845 [==============================] - 2s 7us/step - loss: 0.0040 - accuracy: 0.9992\n",
      "Epoch 33/50\n",
      "227845/227845 [==============================] - 2s 7us/step - loss: 0.0040 - accuracy: 0.9992\n",
      "Epoch 34/50\n",
      "227845/227845 [==============================] - 2s 7us/step - loss: 0.0040 - accuracy: 0.9992\n",
      "Epoch 35/50\n",
      "227845/227845 [==============================] - 2s 7us/step - loss: 0.0040 - accuracy: 0.9992\n",
      "Epoch 36/50\n",
      "227845/227845 [==============================] - 2s 7us/step - loss: 0.0040 - accuracy: 0.9992\n",
      "Epoch 37/50\n",
      "227845/227845 [==============================] - 2s 7us/step - loss: 0.0040 - accuracy: 0.9992\n",
      "Epoch 38/50\n",
      "227845/227845 [==============================] - 2s 7us/step - loss: 0.0040 - accuracy: 0.9992\n",
      "Epoch 39/50\n",
      "227845/227845 [==============================] - 2s 7us/step - loss: 0.0040 - accuracy: 0.9992\n",
      "Epoch 40/50\n",
      "227845/227845 [==============================] - 2s 8us/step - loss: 0.0040 - accuracy: 0.9992\n",
      "Epoch 41/50\n",
      "227845/227845 [==============================] - 2s 8us/step - loss: 0.0040 - accuracy: 0.9992\n",
      "Epoch 42/50\n",
      "227845/227845 [==============================] - 2s 8us/step - loss: 0.0040 - accuracy: 0.9992\n",
      "Epoch 43/50\n",
      "227845/227845 [==============================] - 2s 8us/step - loss: 0.0040 - accuracy: 0.9992\n",
      "Epoch 44/50\n",
      "227845/227845 [==============================] - 2s 8us/step - loss: 0.0040 - accuracy: 0.9992\n",
      "Epoch 45/50\n",
      "227845/227845 [==============================] - 2s 8us/step - loss: 0.0039 - accuracy: 0.9992\n",
      "Epoch 46/50\n",
      "227845/227845 [==============================] - 2s 8us/step - loss: 0.0040 - accuracy: 0.9992\n",
      "Epoch 47/50\n",
      "227845/227845 [==============================] - 2s 7us/step - loss: 0.0040 - accuracy: 0.9992\n",
      "Epoch 48/50\n",
      "227845/227845 [==============================] - 2s 8us/step - loss: 0.0039 - accuracy: 0.9992\n",
      "Epoch 49/50\n",
      "227845/227845 [==============================] - 2s 8us/step - loss: 0.0040 - accuracy: 0.9992\n",
      "Epoch 50/50\n",
      "227845/227845 [==============================] - 2s 8us/step - loss: 0.0040 - accuracy: 0.9993\n"
     ]
    },
    {
     "data": {
      "text/plain": [
       "<keras.callbacks.callbacks.History at 0x1fa0cf6f248>"
      ]
     },
     "execution_count": 26,
     "metadata": {},
     "output_type": "execute_result"
    }
   ],
   "source": [
    "model.fit(x_train,y_train,epochs=50,batch_size=100)"
   ]
  },
  {
   "cell_type": "markdown",
   "metadata": {},
   "source": [
    "# Prediction"
   ]
  },
  {
   "cell_type": "code",
   "execution_count": 27,
   "metadata": {},
   "outputs": [],
   "source": [
    "y_pred=model.predict_classes(x_test)"
   ]
  },
  {
   "cell_type": "markdown",
   "metadata": {},
   "source": [
    "# accuracy score"
   ]
  },
  {
   "cell_type": "code",
   "execution_count": 29,
   "metadata": {},
   "outputs": [
    {
     "name": "stdout",
     "output_type": "stream",
     "text": [
      "Testing Accuracy Score: 99.90168884519505 %\n"
     ]
    }
   ],
   "source": [
    "from sklearn.metrics import accuracy_score\n",
    "print(\"Testing Accuracy Score:\",accuracy_score(y_test,y_pred)*100,\"%\")"
   ]
  },
  {
   "cell_type": "markdown",
   "metadata": {},
   "source": [
    "# Saving the model"
   ]
  },
  {
   "cell_type": "code",
   "execution_count": 30,
   "metadata": {},
   "outputs": [],
   "source": [
    "model.save(\"Credictcardfraud.h5\")"
   ]
  },
  {
   "cell_type": "code",
   "execution_count": 37,
   "metadata": {},
   "outputs": [],
   "source": [
    "import sklearn.externals as joblib"
   ]
  },
  {
   "cell_type": "code",
   "execution_count": 38,
   "metadata": {},
   "outputs": [],
   "source": [
    "import joblib"
   ]
  },
  {
   "cell_type": "code",
   "execution_count": 39,
   "metadata": {},
   "outputs": [
    {
     "data": {
      "text/plain": [
       "['Credictcardfraud_scaler.save']"
      ]
     },
     "execution_count": 39,
     "metadata": {},
     "output_type": "execute_result"
    }
   ],
   "source": [
    "joblib.dump(sc,\"Credictcardfraud_scaler.save\")"
   ]
  },
  {
   "cell_type": "code",
   "execution_count": null,
   "metadata": {},
   "outputs": [],
   "source": []
  }
 ],
 "metadata": {
  "kernelspec": {
   "display_name": "Python 3",
   "language": "python",
   "name": "python3"
  },
  "language_info": {
   "codemirror_mode": {
    "name": "ipython",
    "version": 3
   },
   "file_extension": ".py",
   "mimetype": "text/x-python",
   "name": "python",
   "nbconvert_exporter": "python",
   "pygments_lexer": "ipython3",
   "version": "3.7.7"
  }
 },
 "nbformat": 4,
 "nbformat_minor": 4
}
